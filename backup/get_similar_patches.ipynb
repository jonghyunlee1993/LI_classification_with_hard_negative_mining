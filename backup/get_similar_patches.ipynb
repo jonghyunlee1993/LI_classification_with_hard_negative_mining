{
 "cells": [
  {
   "cell_type": "code",
   "execution_count": 16,
   "id": "028a03f8",
   "metadata": {},
   "outputs": [],
   "source": [
    "import cv2\n",
    "import glob\n",
    "import numpy as np\n",
    "import pandas as pd\n",
    "\n",
    "import timm \n",
    "import torch\n",
    "import torch.nn as nn\n",
    "import torch.nn.functional as F\n",
    "from torch.utils.data.sampler import WeightedRandomSampler\n",
    "from torch.utils.data import Dataset, DataLoader\n",
    "\n",
    "from collections import Counter\n",
    "from sklearn.model_selection import train_test_split\n",
    "\n",
    "import albumentations as A\n",
    "from albumentations.pytorch.transforms import ToTensorV2\n",
    "\n",
    "from torch.utils.data import Dataset, DataLoader\n",
    "\n",
    "flist = glob.glob(\"data/unlabel_negative_patch_2048/*.jpg\")\n",
    "transforms = A.Compose([ \n",
    "    A.Resize(width=224, height=224, p=1.0),\n",
    "    A.Normalize(p=1.0),\n",
    "    ToTensorV2()\n",
    "])"
   ]
  },
  {
   "cell_type": "code",
   "execution_count": 17,
   "id": "1468b542",
   "metadata": {
    "scrolled": false
   },
   "outputs": [],
   "source": [
    "model_name = \"resnet18\"\n",
    "data_util_percentage = 100\n",
    "\n",
    "model = timm.create_model(model_name, pretrained=False, num_classes=2).to(\"cuda:0\")\n",
    "model.load_state_dict(torch.load(f\"weights/{model_name}_{str(data_util_percentage)}%_weak-model/weak_model.pt\"))\n",
    "model.eval()\n",
    "\n",
    "ref_patches = glob.glob(f\"results/false_positive_{model_name}_{str(data_util_percentage)}%_weak-model/*.png\")\n",
    "ref_feats = []\n",
    "\n",
    "for patch in ref_patches:\n",
    "    query_image = cv2.imread(patch)\n",
    "    query_image = transforms(image=query_image)['image']\n",
    "    query_feat = model.forward_features(query_image.unsqueeze(0).to(\"cuda:0\"))\n",
    "    ref_feats.append(query_feat.reshape(1, -1).detach())\n",
    "\n",
    "ref_feats = torch.cat(ref_feats, dim=0)"
   ]
  },
  {
   "cell_type": "code",
   "execution_count": 18,
   "id": "0a563cdf",
   "metadata": {},
   "outputs": [],
   "source": [
    "class PatchDataset(Dataset):\n",
    "    def __init__(self, df, transform):\n",
    "        self.df = df\n",
    "        self.transform = transform\n",
    "           \n",
    "    def __len__(self):    \n",
    "        return len(self.df)\n",
    "    \n",
    "    def __getitem__(self, idx):\n",
    "        fname = self.df[idx]\n",
    "        x = cv2.imread(fname)\n",
    "        x = self.transform(image=x)['image']\n",
    "                \n",
    "        return fname.split(\"/\")[-1], x\n",
    "    \n",
    "batch_size = 32\n",
    "candidates = glob.glob(\"data/unlabel_negative_patch_2048/*.jpg\")\n",
    "cand_dataset = PatchDataset(candidates, transforms)\n",
    "cand_dataloader = DataLoader(cand_dataset, batch_size=batch_size, drop_last=True, shuffle=True, num_workers=32)"
   ]
  },
  {
   "cell_type": "code",
   "execution_count": 19,
   "id": "0d65df87",
   "metadata": {
    "scrolled": false
   },
   "outputs": [
    {
     "data": {
      "application/vnd.jupyter.widget-view+json": {
       "model_id": "52d990a9abd8468fbacf837eadd2b605",
       "version_major": 2,
       "version_minor": 0
      },
      "text/plain": [
       "Ref Image:   0%|          | 0/12 [00:00<?, ?it/s]"
      ]
     },
     "metadata": {},
     "output_type": "display_data"
    },
    {
     "data": {
      "application/vnd.jupyter.widget-view+json": {
       "model_id": "6ec7f435fed34e66a4e2325d84125a3e",
       "version_major": 2,
       "version_minor": 0
      },
      "text/plain": [
       "Query Images:   0%|          | 0/46 [00:00<?, ?it/s]"
      ]
     },
     "metadata": {},
     "output_type": "display_data"
    }
   ],
   "source": [
    "from tqdm.notebook import tqdm\n",
    "\n",
    "query_images = []\n",
    "with tqdm(total=len(ref_feats), desc=\"Ref Image\") as outer:\n",
    "    with tqdm(total=len(cand_dataloader), desc=\"Query Images\") as inner:\n",
    "        for i, ref_feat in enumerate(ref_feats):\n",
    "            line_result = {\"fname\": [], \"dist\": []}\n",
    "            inner.reset()\n",
    "            \n",
    "            for batch in cand_dataloader:\n",
    "                try:\n",
    "                    cand_feat = model.forward_features(batch[1].to(\"cuda:0\")).reshape(batch_size, -1).detach()\n",
    "                    dist = nn.PairwiseDistance(p=2)(ref_feat, cand_feat).detach().cpu().numpy().tolist()\n",
    "                    line_result[\"fname\"].extend([b for b in batch[0]])\n",
    "                    line_result[\"dist\"].extend(dist)\n",
    "                except Exception as e:\n",
    "                    line_result[\"fname\"].extend([b for b in batch[0]])\n",
    "                    line_result[\"dist\"].extend([9999] * batch_size)\n",
    "                        \n",
    "                inner.update()\n",
    "\n",
    "            line_result = pd.DataFrame(line_result)\n",
    "            query_images.extend(line_result.sort_values(\"dist\", ascending=True).head(20).fname.values.tolist())\n",
    "            outer.update()\n",
    "            inner.refresh()\n",
    "            \n",
    "query_images = np.unique(query_images).tolist()"
   ]
  },
  {
   "cell_type": "code",
   "execution_count": 20,
   "id": "09decbed",
   "metadata": {},
   "outputs": [],
   "source": [
    "import os\n",
    "import shutil\n",
    "\n",
    "results_folder_fname = f\"results/aug-data_{model_name}_{str(data_util_percentage)}%\"\n",
    "if os.path.isdir(results_folder_fname) is False:\n",
    "    os.mkdir(results_folder_fname)\n",
    "\n",
    "for f in query_images:\n",
    "    shutil.copyfile(f\"data/unlabel_negative_patch_2048/{f.split('/')[-1]}\", \n",
    "                    os.path.join(results_folder_fname, f.split('/')[-1]))"
   ]
  },
  {
   "cell_type": "code",
   "execution_count": null,
   "id": "b1da21ae",
   "metadata": {},
   "outputs": [],
   "source": []
  }
 ],
 "metadata": {
  "kernelspec": {
   "display_name": "Python 3 (ipykernel)",
   "language": "python",
   "name": "python3"
  },
  "language_info": {
   "codemirror_mode": {
    "name": "ipython",
    "version": 3
   },
   "file_extension": ".py",
   "mimetype": "text/x-python",
   "name": "python",
   "nbconvert_exporter": "python",
   "pygments_lexer": "ipython3",
   "version": "3.7.11"
  }
 },
 "nbformat": 4,
 "nbformat_minor": 5
}
